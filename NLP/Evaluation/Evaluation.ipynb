{
 "cells": [
  {
   "cell_type": "code",
   "id": "initial_id",
   "metadata": {
    "collapsed": true,
    "ExecuteTime": {
     "end_time": "2024-12-17T13:22:24.529838Z",
     "start_time": "2024-12-17T13:22:24.216620Z"
    }
   },
   "source": [
    "import pandas as pd\n",
    "import numpy as np\n",
    "from sklearn.model_selection import train_test_split\n",
    "from tensorflow.keras.preprocessing.text import Tokenizer\n",
    "from tensorflow.keras.preprocessing.sequence import pad_sequences\n",
    "from tensorflow.keras.models import Sequential\n",
    "from tensorflow.keras.layers import Embedding, LSTM, Dense, GlobalAveragePooling1D\n",
    "from tensorflow.keras.optimizers import Adam"
   ],
   "outputs": [],
   "execution_count": 7
  },
  {
   "metadata": {
    "ExecuteTime": {
     "end_time": "2024-12-17T13:19:34.778773Z",
     "start_time": "2024-12-17T13:19:33.850414Z"
    }
   },
   "cell_type": "code",
   "source": [
    "data = pd.read_csv(\"evaluation.csv\", sep=\";\")\n",
    "data"
   ],
   "id": "e183fbaf4756c984",
   "outputs": [
    {
     "data": {
      "text/plain": [
       "      Unnamed: 0                                              title  \\\n",
       "0              0  Sanders back in U.S. Senate, blasts 'coloniali...   \n",
       "1              1  Kremlin: Syria peoples' congress being 'active...   \n",
       "2              2   Oregon Cop Convicted Of Shattering Biker’s Co...   \n",
       "3              3   Twitter Erupts With Glee Over #CruzSexScandal...   \n",
       "4              4  MUST WATCH VIDEO: Obama Tries To Trash Trump B...   \n",
       "...          ...                                                ...   \n",
       "8112        8112   Sean Hannity Throws Hissy Fit After Real Repo...   \n",
       "8113        8113  FORMER ASST FBI DIRECTOR WARNS ANTI-TRUMP KABA...   \n",
       "8114        8114   John McCain: Trump’s Attacks On The Press Are...   \n",
       "8115        8115  Syria's Deir al-Zor air base working again: st...   \n",
       "8116        8116  U.S. military releases, withdraws old Islamist...   \n",
       "\n",
       "                                                   text  label  \n",
       "0     WASHINGTON (Reuters) - Democratic U.S. preside...      1  \n",
       "1     MOSCOW (Reuters) - A proposal to convene a con...      1  \n",
       "2     In a baffling fit of rage, an Oregon State Pol...      0  \n",
       "3     The last thing any politician running for the ...      0  \n",
       "4     This is too good to miss! Mr. Teleprompter did...      0  \n",
       "...                                                 ...    ...  \n",
       "8112  Just like Donald Trump, Sean Hannity has a thi...      0  \n",
       "8113  Former Asst. FBI Director James Kallstrom spok...      0  \n",
       "8114  Donald Trump has declared the media to be  the...      0  \n",
       "8115  BEIRUT (Reuters) - The Deir al-Zor military ai...      1  \n",
       "8116  WASHINGTON (Reuters) - In an awkward reversal,...      1  \n",
       "\n",
       "[8117 rows x 4 columns]"
      ],
      "text/html": [
       "<div>\n",
       "<style scoped>\n",
       "    .dataframe tbody tr th:only-of-type {\n",
       "        vertical-align: middle;\n",
       "    }\n",
       "\n",
       "    .dataframe tbody tr th {\n",
       "        vertical-align: top;\n",
       "    }\n",
       "\n",
       "    .dataframe thead th {\n",
       "        text-align: right;\n",
       "    }\n",
       "</style>\n",
       "<table border=\"1\" class=\"dataframe\">\n",
       "  <thead>\n",
       "    <tr style=\"text-align: right;\">\n",
       "      <th></th>\n",
       "      <th>Unnamed: 0</th>\n",
       "      <th>title</th>\n",
       "      <th>text</th>\n",
       "      <th>label</th>\n",
       "    </tr>\n",
       "  </thead>\n",
       "  <tbody>\n",
       "    <tr>\n",
       "      <th>0</th>\n",
       "      <td>0</td>\n",
       "      <td>Sanders back in U.S. Senate, blasts 'coloniali...</td>\n",
       "      <td>WASHINGTON (Reuters) - Democratic U.S. preside...</td>\n",
       "      <td>1</td>\n",
       "    </tr>\n",
       "    <tr>\n",
       "      <th>1</th>\n",
       "      <td>1</td>\n",
       "      <td>Kremlin: Syria peoples' congress being 'active...</td>\n",
       "      <td>MOSCOW (Reuters) - A proposal to convene a con...</td>\n",
       "      <td>1</td>\n",
       "    </tr>\n",
       "    <tr>\n",
       "      <th>2</th>\n",
       "      <td>2</td>\n",
       "      <td>Oregon Cop Convicted Of Shattering Biker’s Co...</td>\n",
       "      <td>In a baffling fit of rage, an Oregon State Pol...</td>\n",
       "      <td>0</td>\n",
       "    </tr>\n",
       "    <tr>\n",
       "      <th>3</th>\n",
       "      <td>3</td>\n",
       "      <td>Twitter Erupts With Glee Over #CruzSexScandal...</td>\n",
       "      <td>The last thing any politician running for the ...</td>\n",
       "      <td>0</td>\n",
       "    </tr>\n",
       "    <tr>\n",
       "      <th>4</th>\n",
       "      <td>4</td>\n",
       "      <td>MUST WATCH VIDEO: Obama Tries To Trash Trump B...</td>\n",
       "      <td>This is too good to miss! Mr. Teleprompter did...</td>\n",
       "      <td>0</td>\n",
       "    </tr>\n",
       "    <tr>\n",
       "      <th>...</th>\n",
       "      <td>...</td>\n",
       "      <td>...</td>\n",
       "      <td>...</td>\n",
       "      <td>...</td>\n",
       "    </tr>\n",
       "    <tr>\n",
       "      <th>8112</th>\n",
       "      <td>8112</td>\n",
       "      <td>Sean Hannity Throws Hissy Fit After Real Repo...</td>\n",
       "      <td>Just like Donald Trump, Sean Hannity has a thi...</td>\n",
       "      <td>0</td>\n",
       "    </tr>\n",
       "    <tr>\n",
       "      <th>8113</th>\n",
       "      <td>8113</td>\n",
       "      <td>FORMER ASST FBI DIRECTOR WARNS ANTI-TRUMP KABA...</td>\n",
       "      <td>Former Asst. FBI Director James Kallstrom spok...</td>\n",
       "      <td>0</td>\n",
       "    </tr>\n",
       "    <tr>\n",
       "      <th>8114</th>\n",
       "      <td>8114</td>\n",
       "      <td>John McCain: Trump’s Attacks On The Press Are...</td>\n",
       "      <td>Donald Trump has declared the media to be  the...</td>\n",
       "      <td>0</td>\n",
       "    </tr>\n",
       "    <tr>\n",
       "      <th>8115</th>\n",
       "      <td>8115</td>\n",
       "      <td>Syria's Deir al-Zor air base working again: st...</td>\n",
       "      <td>BEIRUT (Reuters) - The Deir al-Zor military ai...</td>\n",
       "      <td>1</td>\n",
       "    </tr>\n",
       "    <tr>\n",
       "      <th>8116</th>\n",
       "      <td>8116</td>\n",
       "      <td>U.S. military releases, withdraws old Islamist...</td>\n",
       "      <td>WASHINGTON (Reuters) - In an awkward reversal,...</td>\n",
       "      <td>1</td>\n",
       "    </tr>\n",
       "  </tbody>\n",
       "</table>\n",
       "<p>8117 rows × 4 columns</p>\n",
       "</div>"
      ]
     },
     "execution_count": 5,
     "metadata": {},
     "output_type": "execute_result"
    }
   ],
   "execution_count": 5
  },
  {
   "metadata": {
    "ExecuteTime": {
     "end_time": "2024-12-17T13:20:37.371054Z",
     "start_time": "2024-12-17T13:20:37.232188Z"
    }
   },
   "cell_type": "code",
   "source": [
    "data = data.drop(columns=['Unnamed: 0','title'],axis=1)\n",
    "data"
   ],
   "id": "a6a3ca9dce9a92af",
   "outputs": [
    {
     "data": {
      "text/plain": [
       "                                                   text  label\n",
       "0     WASHINGTON (Reuters) - Democratic U.S. preside...      1\n",
       "1     MOSCOW (Reuters) - A proposal to convene a con...      1\n",
       "2     In a baffling fit of rage, an Oregon State Pol...      0\n",
       "3     The last thing any politician running for the ...      0\n",
       "4     This is too good to miss! Mr. Teleprompter did...      0\n",
       "...                                                 ...    ...\n",
       "8112  Just like Donald Trump, Sean Hannity has a thi...      0\n",
       "8113  Former Asst. FBI Director James Kallstrom spok...      0\n",
       "8114  Donald Trump has declared the media to be  the...      0\n",
       "8115  BEIRUT (Reuters) - The Deir al-Zor military ai...      1\n",
       "8116  WASHINGTON (Reuters) - In an awkward reversal,...      1\n",
       "\n",
       "[8117 rows x 2 columns]"
      ],
      "text/html": [
       "<div>\n",
       "<style scoped>\n",
       "    .dataframe tbody tr th:only-of-type {\n",
       "        vertical-align: middle;\n",
       "    }\n",
       "\n",
       "    .dataframe tbody tr th {\n",
       "        vertical-align: top;\n",
       "    }\n",
       "\n",
       "    .dataframe thead th {\n",
       "        text-align: right;\n",
       "    }\n",
       "</style>\n",
       "<table border=\"1\" class=\"dataframe\">\n",
       "  <thead>\n",
       "    <tr style=\"text-align: right;\">\n",
       "      <th></th>\n",
       "      <th>text</th>\n",
       "      <th>label</th>\n",
       "    </tr>\n",
       "  </thead>\n",
       "  <tbody>\n",
       "    <tr>\n",
       "      <th>0</th>\n",
       "      <td>WASHINGTON (Reuters) - Democratic U.S. preside...</td>\n",
       "      <td>1</td>\n",
       "    </tr>\n",
       "    <tr>\n",
       "      <th>1</th>\n",
       "      <td>MOSCOW (Reuters) - A proposal to convene a con...</td>\n",
       "      <td>1</td>\n",
       "    </tr>\n",
       "    <tr>\n",
       "      <th>2</th>\n",
       "      <td>In a baffling fit of rage, an Oregon State Pol...</td>\n",
       "      <td>0</td>\n",
       "    </tr>\n",
       "    <tr>\n",
       "      <th>3</th>\n",
       "      <td>The last thing any politician running for the ...</td>\n",
       "      <td>0</td>\n",
       "    </tr>\n",
       "    <tr>\n",
       "      <th>4</th>\n",
       "      <td>This is too good to miss! Mr. Teleprompter did...</td>\n",
       "      <td>0</td>\n",
       "    </tr>\n",
       "    <tr>\n",
       "      <th>...</th>\n",
       "      <td>...</td>\n",
       "      <td>...</td>\n",
       "    </tr>\n",
       "    <tr>\n",
       "      <th>8112</th>\n",
       "      <td>Just like Donald Trump, Sean Hannity has a thi...</td>\n",
       "      <td>0</td>\n",
       "    </tr>\n",
       "    <tr>\n",
       "      <th>8113</th>\n",
       "      <td>Former Asst. FBI Director James Kallstrom spok...</td>\n",
       "      <td>0</td>\n",
       "    </tr>\n",
       "    <tr>\n",
       "      <th>8114</th>\n",
       "      <td>Donald Trump has declared the media to be  the...</td>\n",
       "      <td>0</td>\n",
       "    </tr>\n",
       "    <tr>\n",
       "      <th>8115</th>\n",
       "      <td>BEIRUT (Reuters) - The Deir al-Zor military ai...</td>\n",
       "      <td>1</td>\n",
       "    </tr>\n",
       "    <tr>\n",
       "      <th>8116</th>\n",
       "      <td>WASHINGTON (Reuters) - In an awkward reversal,...</td>\n",
       "      <td>1</td>\n",
       "    </tr>\n",
       "  </tbody>\n",
       "</table>\n",
       "<p>8117 rows × 2 columns</p>\n",
       "</div>"
      ]
     },
     "execution_count": 6,
     "metadata": {},
     "output_type": "execute_result"
    }
   ],
   "execution_count": 6
  },
  {
   "metadata": {
    "ExecuteTime": {
     "end_time": "2024-12-17T13:24:38.449348Z",
     "start_time": "2024-12-17T13:24:38.432970Z"
    }
   },
   "cell_type": "code",
   "source": [
    "vocab_size = 10000\n",
    "max_length = 200    \n",
    "embedding_dim = 64 "
   ],
   "id": "4eaa0570d937286b",
   "outputs": [],
   "execution_count": 8
  },
  {
   "metadata": {
    "ExecuteTime": {
     "end_time": "2024-12-17T13:24:59.292557Z",
     "start_time": "2024-12-17T13:24:49.650815Z"
    }
   },
   "cell_type": "code",
   "source": [
    "tokenizer = Tokenizer(num_words=vocab_size, oov_token=\"<OOV>\")\n",
    "tokenizer.fit_on_texts(data['text'])"
   ],
   "id": "ea027d5d177ecb93",
   "outputs": [],
   "execution_count": 9
  },
  {
   "metadata": {
    "ExecuteTime": {
     "end_time": "2024-12-17T13:25:42.589274Z",
     "start_time": "2024-12-17T13:25:31.578010Z"
    }
   },
   "cell_type": "code",
   "source": "sequences = tokenizer.texts_to_sequences(data['text'])",
   "id": "6a79645f4f9e01c3",
   "outputs": [],
   "execution_count": 10
  },
  {
   "metadata": {
    "ExecuteTime": {
     "end_time": "2024-12-17T13:25:59.875046Z",
     "start_time": "2024-12-17T13:25:59.670790Z"
    }
   },
   "cell_type": "code",
   "source": "padded_sequences = pad_sequences(sequences, maxlen=max_length, padding='post', truncating='post')",
   "id": "dc2d9c29a4481ed",
   "outputs": [],
   "execution_count": 11
  },
  {
   "metadata": {
    "ExecuteTime": {
     "end_time": "2024-12-17T13:26:30.917138Z",
     "start_time": "2024-12-17T13:26:30.900609Z"
    }
   },
   "cell_type": "code",
   "source": "labels = np.array(data['label'])",
   "id": "8cd3c7f74d655a9c",
   "outputs": [],
   "execution_count": 12
  },
  {
   "metadata": {
    "ExecuteTime": {
     "end_time": "2024-12-17T13:26:47.774932Z",
     "start_time": "2024-12-17T13:26:47.673997Z"
    }
   },
   "cell_type": "code",
   "source": "X_train, X_test, y_train, y_test = train_test_split(padded_sequences, labels, test_size=0.2, random_state=42)\n",
   "id": "d907084c9448fd0",
   "outputs": [],
   "execution_count": 13
  },
  {
   "metadata": {
    "ExecuteTime": {
     "end_time": "2024-12-17T13:28:45.725315Z",
     "start_time": "2024-12-17T13:28:45.708179Z"
    }
   },
   "cell_type": "code",
   "source": [
    "model = Sequential([\n",
    "    Embedding(vocab_size, embedding_dim),\n",
    "    GlobalAveragePooling1D(),\n",
    "    Dense(16, activation='relu'),\n",
    "    Dense(1, activation='sigmoid')\n",
    "])"
   ],
   "id": "cc3b194e1021e027",
   "outputs": [],
   "execution_count": 15
  },
  {
   "metadata": {
    "ExecuteTime": {
     "end_time": "2024-12-17T13:29:03.269624Z",
     "start_time": "2024-12-17T13:29:02.689188Z"
    }
   },
   "cell_type": "code",
   "source": [
    "model.compile(optimizer=Adam(learning_rate=0.001),\n",
    "              loss='binary_crossentropy',\n",
    "              metrics=['accuracy'])"
   ],
   "id": "633e5e9c365ec3c1",
   "outputs": [],
   "execution_count": 16
  },
  {
   "metadata": {
    "ExecuteTime": {
     "end_time": "2024-12-17T13:29:51.028774Z",
     "start_time": "2024-12-17T13:29:16.713543Z"
    }
   },
   "cell_type": "code",
   "source": "history = model.fit(X_train, y_train, epochs=10, batch_size=32, validation_data=(X_test, y_test))\n",
   "id": "dc667e6998755f98",
   "outputs": [
    {
     "name": "stdout",
     "output_type": "stream",
     "text": [
      "Epoch 1/10\n",
      "\u001B[1m203/203\u001B[0m \u001B[32m━━━━━━━━━━━━━━━━━━━━\u001B[0m\u001B[37m\u001B[0m \u001B[1m6s\u001B[0m 14ms/step - accuracy: 0.8365 - loss: 0.5729 - val_accuracy: 0.9329 - val_loss: 0.2002\n",
      "Epoch 2/10\n",
      "\u001B[1m203/203\u001B[0m \u001B[32m━━━━━━━━━━━━━━━━━━━━\u001B[0m\u001B[37m\u001B[0m \u001B[1m2s\u001B[0m 12ms/step - accuracy: 0.9569 - loss: 0.1489 - val_accuracy: 0.9637 - val_loss: 0.1240\n",
      "Epoch 3/10\n",
      "\u001B[1m203/203\u001B[0m \u001B[32m━━━━━━━━━━━━━━━━━━━━\u001B[0m\u001B[37m\u001B[0m \u001B[1m2s\u001B[0m 12ms/step - accuracy: 0.9767 - loss: 0.0824 - val_accuracy: 0.9686 - val_loss: 0.1070\n",
      "Epoch 4/10\n",
      "\u001B[1m203/203\u001B[0m \u001B[32m━━━━━━━━━━━━━━━━━━━━\u001B[0m\u001B[37m\u001B[0m \u001B[1m3s\u001B[0m 13ms/step - accuracy: 0.9826 - loss: 0.0584 - val_accuracy: 0.9729 - val_loss: 0.0966\n",
      "Epoch 5/10\n",
      "\u001B[1m203/203\u001B[0m \u001B[32m━━━━━━━━━━━━━━━━━━━━\u001B[0m\u001B[37m\u001B[0m \u001B[1m3s\u001B[0m 13ms/step - accuracy: 0.9909 - loss: 0.0341 - val_accuracy: 0.9698 - val_loss: 0.0984\n",
      "Epoch 6/10\n",
      "\u001B[1m203/203\u001B[0m \u001B[32m━━━━━━━━━━━━━━━━━━━━\u001B[0m\u001B[37m\u001B[0m \u001B[1m3s\u001B[0m 14ms/step - accuracy: 0.9935 - loss: 0.0264 - val_accuracy: 0.9729 - val_loss: 0.0916\n",
      "Epoch 7/10\n",
      "\u001B[1m203/203\u001B[0m \u001B[32m━━━━━━━━━━━━━━━━━━━━\u001B[0m\u001B[37m\u001B[0m \u001B[1m3s\u001B[0m 14ms/step - accuracy: 0.9920 - loss: 0.0294 - val_accuracy: 0.9470 - val_loss: 0.1417\n",
      "Epoch 8/10\n",
      "\u001B[1m203/203\u001B[0m \u001B[32m━━━━━━━━━━━━━━━━━━━━\u001B[0m\u001B[37m\u001B[0m \u001B[1m4s\u001B[0m 18ms/step - accuracy: 0.9948 - loss: 0.0173 - val_accuracy: 0.9741 - val_loss: 0.0974\n",
      "Epoch 9/10\n",
      "\u001B[1m203/203\u001B[0m \u001B[32m━━━━━━━━━━━━━━━━━━━━\u001B[0m\u001B[37m\u001B[0m \u001B[1m5s\u001B[0m 16ms/step - accuracy: 0.9908 - loss: 0.0269 - val_accuracy: 0.9735 - val_loss: 0.1008\n",
      "Epoch 10/10\n",
      "\u001B[1m203/203\u001B[0m \u001B[32m━━━━━━━━━━━━━━━━━━━━\u001B[0m\u001B[37m\u001B[0m \u001B[1m3s\u001B[0m 14ms/step - accuracy: 0.9973 - loss: 0.0103 - val_accuracy: 0.9754 - val_loss: 0.0979\n"
     ]
    }
   ],
   "execution_count": 17
  },
  {
   "metadata": {
    "ExecuteTime": {
     "end_time": "2024-12-17T13:31:42.596536Z",
     "start_time": "2024-12-17T13:31:40.845722Z"
    }
   },
   "cell_type": "code",
   "source": [
    "import seaborn as sns\n",
    "sns.lineplot(history.history['loss'], label='loss')\n",
    "sns.lineplot(history.history['val_loss'], label='val_loss')"
   ],
   "id": "a0356849b802e234",
   "outputs": [
    {
     "data": {
      "text/plain": [
       "<Axes: >"
      ]
     },
     "execution_count": 19,
     "metadata": {},
     "output_type": "execute_result"
    },
    {
     "data": {
      "text/plain": [
       "<Figure size 640x480 with 1 Axes>"
      ],
      "image/png": "[encoded data removed]"
     },
     "metadata": {},
     "output_type": "display_data"
    }
   ],
   "execution_count": 19
  },
  {
   "metadata": {
    "ExecuteTime": {
     "end_time": "2024-12-17T13:33:16.765223Z",
     "start_time": "2024-12-17T13:33:16.254581Z"
    }
   },
   "cell_type": "code",
   "source": "Y_pred = model.predict(X_test).round()",
   "id": "93493b2a566627b2",
   "outputs": [
    {
     "name": "stdout",
     "output_type": "stream",
     "text": [
      "\u001B[1m51/51\u001B[0m \u001B[32m━━━━━━━━━━━━━━━━━━━━\u001B[0m\u001B[37m\u001B[0m \u001B[1m0s\u001B[0m 4ms/step\n"
     ]
    }
   ],
   "execution_count": 20
  },
  {
   "metadata": {
    "ExecuteTime": {
     "end_time": "2024-12-17T13:34:30.158876Z",
     "start_time": "2024-12-17T13:34:30.058201Z"
    }
   },
   "cell_type": "code",
   "source": [
    "from sklearn.metrics import confusion_matrix, accuracy_score,classification_report\n",
    "print(confusion_matrix(y_test, Y_pred))\n",
    "print(classification_report(y_test, Y_pred))\n",
    "print(f' Accuracy: {accuracy_score(y_test, Y_pred) * 100}%\\n\\n')"
   ],
   "id": "2e333bcc7d3a9216",
   "outputs": [
    {
     "name": "stdout",
     "output_type": "stream",
     "text": [
      "[[747  17]\n",
      " [ 23 837]]\n",
      "              precision    recall  f1-score   support\n",
      "\n",
      "           0       0.97      0.98      0.97       764\n",
      "           1       0.98      0.97      0.98       860\n",
      "\n",
      "    accuracy                           0.98      1624\n",
      "   macro avg       0.98      0.98      0.98      1624\n",
      "weighted avg       0.98      0.98      0.98      1624\n",
      "\n",
      " Accuracy: 97.53694581280789%\n",
      "\n",
      "\n"
     ]
    }
   ],
   "execution_count": 21
  },
  {
   "metadata": {},
   "cell_type": "code",
   "outputs": [],
   "execution_count": null,
   "source": "",
   "id": "ff3016b5ea2665ad"
  }
 ],
 "metadata": {
  "kernelspec": {
   "display_name": "Python 3",
   "language": "python",
   "name": "python3"
  },
  "language_info": {
   "codemirror_mode": {
    "name": "ipython",
    "version": 2
   },
   "file_extension": ".py",
   "mimetype": "text/x-python",
   "name": "python",
   "nbconvert_exporter": "python",
   "pygments_lexer": "ipython2",
   "version": "2.7.6"
  }
 },
 "nbformat": 4,
 "nbformat_minor": 5
}
