{
 "cells": [
  {
   "cell_type": "code",
   "id": "initial_id",
   "metadata": {
    "collapsed": true,
    "ExecuteTime": {
     "end_time": "2024-10-29T17:34:31.846413Z",
     "start_time": "2024-10-29T17:34:31.840352Z"
    }
   },
   "source": [
    "# !pip install selenium\n",
    "from selenium import webdriver\n",
    "from selenium.webdriver.common.by import By\n",
    "import pandas as pd\n",
    "import matplotlib.pyplot as plt"
   ],
   "outputs": [],
   "execution_count": 91
  },
  {
   "metadata": {
    "ExecuteTime": {
     "end_time": "2024-10-29T17:34:33.683380Z",
     "start_time": "2024-10-29T17:34:33.677152Z"
    }
   },
   "cell_type": "code",
   "source": [
    "options = webdriver.ChromeOptions()\n",
    "options.add_argument('--headless')\n",
    "options.add_argument('--no-sandbox')\n",
    "options.add_argument('--disable-dev-shm-usage')"
   ],
   "id": "1e3a80afa89cdb2f",
   "outputs": [],
   "execution_count": 92
  },
  {
   "metadata": {
    "ExecuteTime": {
     "end_time": "2024-10-29T17:34:40.550715Z",
     "start_time": "2024-10-29T17:34:36.089302Z"
    }
   },
   "cell_type": "code",
   "source": [
    "url=\"https://paket.mk/category/svez-zelencuk\"\n",
    "browser = webdriver.Chrome(options=options)\n"
   ],
   "id": "e10e636f87b75c49",
   "outputs": [],
   "execution_count": 93
  },
  {
   "metadata": {
    "ExecuteTime": {
     "end_time": "2024-10-29T17:34:52.784138Z",
     "start_time": "2024-10-29T17:34:46.229096Z"
    }
   },
   "cell_type": "code",
   "source": "browser.get(url)",
   "id": "f9475c769c82f4de",
   "outputs": [],
   "execution_count": 94
  },
  {
   "metadata": {
    "ExecuteTime": {
     "end_time": "2024-10-29T17:35:39.797715Z",
     "start_time": "2024-10-29T17:34:57.191866Z"
    }
   },
   "cell_type": "code",
   "source": [
    "products = browser.find_elements(By.CLASS_NAME, \"product-card\")\n",
    "prices = [price.text for price in browser.find_elements(By.CSS_SELECTOR, \"#portal-main > div > div.hidden.desktop\\\\:block > div > div > div > div > div > span.font-semibold.italic.tracking-tight\")]\n",
    "\n",
    "len(prices)\n",
    "titles = [title.text for title in browser.find_elements(By.CSS_SELECTOR, \"#portal-main > div > div.hidden.desktop\\\\:block > div > div > p > a\")]\n",
    "\n",
    "urls=[url.get_attribute(\"href\") for url in browser.find_elements(By.CSS_SELECTOR, \"#portal-main > div > div.hidden.desktop\\\\:block > div > div > div.px-auto.relative > a\")]\n",
    "\n",
    "sifri=[]\n",
    "for url in urls:\n",
    "    browser.get(url)\n",
    "    sifra = browser.find_element(By.CSS_SELECTOR,\"#portal-main > div > div.flex.w-full.flex-col.desktop\\\\:flex-row > div.flex.shrink.grow.flex-col.desktop\\\\:w-\\\\[calc\\\\(90vw-360px\\\\)\\\\] > div:nth-child(3) > div > span.font-base.text-muted\").text\n",
    "    sifri.append(sifra)\n",
    "    browser.back()\n",
    "\n",
    "df = pd.DataFrame(list(zip(titles, prices,sifri)), columns=['title', 'price','sifra'])\n",
    "print(df)\n"
   ],
   "id": "28ecebdf92659ab7",
   "outputs": [
    {
     "name": "stdout",
     "output_type": "stream",
     "text": [
      "                                            title price     sifra\n",
      "0                                 Пиперка Лута 1п    16  FRE00208\n",
      "1                            Компир Жолт цца. 1кг    29  FRE00179\n",
      "2                     Краставици мин. 3п цца. 1кг    83  FRE00183\n",
      "3                           Тиквица 1п цца. 480гр    24  FRE00224\n",
      "4            Модар патлиџан (домат) 1п цца. 800гр    29  FRE00195\n",
      "5                   Домати Розеви мин. 4п цца 1кг    87  FRE00143\n",
      "6                             Млад кромид 1 китка    22  FRE00203\n",
      "7                                 Моркови цца 1кг    31  FRE00191\n",
      "8           Авокадо Fuerte ready2eat 1п цца 160гр    56  FRE00108\n",
      "9                    Кромид Жолт мин. 5п цца. 1кг    26  FRE00176\n",
      "10  Food bar Свежи кафени шампињони I класа 200гр   106  FUD15731\n",
      "11                           Корнишони цца. 500гр    39  FRE00189\n",
      "12                                      Марула 1п    28  FRE00196\n",
      "13           Авокадо Fuerte Позелено 1п цца 160гр    56  FRE00107\n",
      "14                     Бабура Зелена 1п цца. 90гр    14  FRE00237\n",
      "15                         Домати мин. 5п цца 1кг    88  FRE00141\n",
      "16                Пиперки Капија мин. 5п цца. 1кг   103  FRE00210\n",
      "17                     Кромид Црвен 1п цца. 150гр     7  FRE00177\n",
      "18                               Магдонос 1 китка    18  FRE00194\n",
      "19                         Пиперки Благи цца. 1кг    94  FRE00207\n",
      "20                                   Праз 1 китка    53  FRE00213\n",
      "21                              Моркови цца 500гр    15  FRE00301\n",
      "22                      Брокула мин. 1п цца 500гр   103  FRE00127\n",
      "23                                Цвекло цца. 1кг    34  FRE00230\n",
      "24                      Млада зелка 1п цца. 1.5кг    61  FRE00150\n",
      "25                       Краставица 1п цца. 250гр    25  FRE00182\n",
      "26                       Пиперки Благи цца. 500гр    47  FRE00206\n",
      "27                      Кромид Жолт 1п цца. 150гр     4  FRE00175\n",
      "28                      Свежи шампињони цца 400гр   115  FRE00314\n",
      "29                              Ѓумбир цца. 200гр    82  FRE00232\n"
     ]
    }
   ],
   "execution_count": 95
  },
  {
   "metadata": {},
   "cell_type": "code",
   "outputs": [],
   "execution_count": null,
   "source": "    ",
   "id": "73ac56a0e60a8f9d"
  }
 ],
 "metadata": {
  "kernelspec": {
   "display_name": "Python 3",
   "language": "python",
   "name": "python3"
  },
  "language_info": {
   "codemirror_mode": {
    "name": "ipython",
    "version": 2
   },
   "file_extension": ".py",
   "mimetype": "text/x-python",
   "name": "python",
   "nbconvert_exporter": "python",
   "pygments_lexer": "ipython2",
   "version": "2.7.6"
  }
 },
 "nbformat": 4,
 "nbformat_minor": 5
}
