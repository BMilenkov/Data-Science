{
 "nbformat": 4,
 "nbformat_minor": 0,
 "metadata": {
  "colab": {
   "provenance": [],
   "gpuType": "T4"
  },
  "kernelspec": {
   "name": "python3",
   "display_name": "Python 3 (ipykernel)",
   "language": "python"
  },
  "language_info": {
   "name": "python"
  },
  "accelerator": "GPU"
 },
 "cells": [
  {
   "cell_type": "markdown",
   "source": [
    "# Requirements"
   ],
   "metadata": {
    "id": "rODb9vHvIEbp"
   }
  },
  {
   "cell_type": "code",
   "source": [
    "from datasets import load_dataset, Dataset\n",
    "from transformers import AutoTokenizer, DataCollatorWithPadding\n",
    "import pandas as pd"
   ],
   "metadata": {
    "id": "U4KmHBd2cdx9",
    "ExecuteTime": {
     "end_time": "2025-02-01T14:15:58.912684Z",
     "start_time": "2025-02-01T14:15:19.476147Z"
    }
   },
   "outputs": [],
   "execution_count": 1
  },
  {
   "cell_type": "markdown",
   "source": [
    "# Laboratory Exercise - Run Mode (8 points)"
   ],
   "metadata": {
    "id": "KNMMoUiUIW3L"
   }
  },
  {
   "cell_type": "markdown",
   "source": [
    "## Introduction\n",
    "This laboratory assignment's primary objective is to fine-tune a pre-trained language model for binary classification on a dataset consisting of wine reviews. The dataset contains two attributes: **description** and **points**. The description is a brief text describing the wine and the points represent a quality metric ranging from 1 to 100. If some wine has at least 90 points it is considered **exceptional**. Your task involves predicting if some wine is **exceptional** based on its review."
   ],
   "metadata": {
    "id": "_rAh_91OIjeS"
   }
  },
  {
   "cell_type": "markdown",
   "source": [
    "## The Wine Reviews Dataset"
   ],
   "metadata": {
    "id": "zBYI-EypaWom"
   }
  },
  {
   "cell_type": "markdown",
   "source": [
    "Load the dataset using the `datasets` library."
   ],
   "metadata": {
    "id": "DCm1qm1mZwMr"
   }
  },
  {
   "cell_type": "code",
   "source": [
    "df = pd.read_csv(\"wine-reviews.csv\")\n",
    "df"
   ],
   "metadata": {
    "id": "KMOn4fgcZn8s",
    "ExecuteTime": {
     "end_time": "2025-02-01T14:36:37.226598Z",
     "start_time": "2025-02-01T14:36:37.158651Z"
    }
   },
   "outputs": [
    {
     "data": {
      "text/plain": [
       "                                            description  points\n",
       "0     Translucent in color, silky in the mouth, this...      85\n",
       "1     On the palate, this wine is rich and complex, ...      92\n",
       "2     The producer blends 57% Chardonnay from the Ma...      92\n",
       "3     Pure Baga in all its glory, packed with dry an...      93\n",
       "4     Think of Subsídio as a contribution rather tha...      89\n",
       "...                                                 ...     ...\n",
       "9995  From the folks at Merryvale, this is a blend o...      92\n",
       "9996  An easy, versatile food wine or cocktail sippe...      84\n",
       "9997  Black-fruit aromas blend nicely into chocolate...      93\n",
       "9998  This combines 61% Cabernet Sauvignon, 14% Syra...      90\n",
       "9999  This is Ferreira's top vineyard that also prod...      94\n",
       "\n",
       "[10000 rows x 2 columns]"
      ],
      "text/html": [
       "<div>\n",
       "<style scoped>\n",
       "    .dataframe tbody tr th:only-of-type {\n",
       "        vertical-align: middle;\n",
       "    }\n",
       "\n",
       "    .dataframe tbody tr th {\n",
       "        vertical-align: top;\n",
       "    }\n",
       "\n",
       "    .dataframe thead th {\n",
       "        text-align: right;\n",
       "    }\n",
       "</style>\n",
       "<table border=\"1\" class=\"dataframe\">\n",
       "  <thead>\n",
       "    <tr style=\"text-align: right;\">\n",
       "      <th></th>\n",
       "      <th>description</th>\n",
       "      <th>points</th>\n",
       "    </tr>\n",
       "  </thead>\n",
       "  <tbody>\n",
       "    <tr>\n",
       "      <th>0</th>\n",
       "      <td>Translucent in color, silky in the mouth, this...</td>\n",
       "      <td>85</td>\n",
       "    </tr>\n",
       "    <tr>\n",
       "      <th>1</th>\n",
       "      <td>On the palate, this wine is rich and complex, ...</td>\n",
       "      <td>92</td>\n",
       "    </tr>\n",
       "    <tr>\n",
       "      <th>2</th>\n",
       "      <td>The producer blends 57% Chardonnay from the Ma...</td>\n",
       "      <td>92</td>\n",
       "    </tr>\n",
       "    <tr>\n",
       "      <th>3</th>\n",
       "      <td>Pure Baga in all its glory, packed with dry an...</td>\n",
       "      <td>93</td>\n",
       "    </tr>\n",
       "    <tr>\n",
       "      <th>4</th>\n",
       "      <td>Think of Subsídio as a contribution rather tha...</td>\n",
       "      <td>89</td>\n",
       "    </tr>\n",
       "    <tr>\n",
       "      <th>...</th>\n",
       "      <td>...</td>\n",
       "      <td>...</td>\n",
       "    </tr>\n",
       "    <tr>\n",
       "      <th>9995</th>\n",
       "      <td>From the folks at Merryvale, this is a blend o...</td>\n",
       "      <td>92</td>\n",
       "    </tr>\n",
       "    <tr>\n",
       "      <th>9996</th>\n",
       "      <td>An easy, versatile food wine or cocktail sippe...</td>\n",
       "      <td>84</td>\n",
       "    </tr>\n",
       "    <tr>\n",
       "      <th>9997</th>\n",
       "      <td>Black-fruit aromas blend nicely into chocolate...</td>\n",
       "      <td>93</td>\n",
       "    </tr>\n",
       "    <tr>\n",
       "      <th>9998</th>\n",
       "      <td>This combines 61% Cabernet Sauvignon, 14% Syra...</td>\n",
       "      <td>90</td>\n",
       "    </tr>\n",
       "    <tr>\n",
       "      <th>9999</th>\n",
       "      <td>This is Ferreira's top vineyard that also prod...</td>\n",
       "      <td>94</td>\n",
       "    </tr>\n",
       "  </tbody>\n",
       "</table>\n",
       "<p>10000 rows × 2 columns</p>\n",
       "</div>"
      ]
     },
     "execution_count": 38,
     "metadata": {},
     "output_type": "execute_result"
    }
   ],
   "execution_count": 38
  },
  {
   "metadata": {
    "ExecuteTime": {
     "end_time": "2025-02-01T14:36:52.028718Z",
     "start_time": "2025-02-01T14:36:51.422315Z"
    }
   },
   "cell_type": "code",
   "source": [
    "dataset = load_dataset(\"csv\", data_files=\"wine-reviews.csv\", delimiter=\",\", split='train[:500]')\n",
    "# dataset['train'] = dataset[\"train\"].select(range(500))\n",
    "# dataset['train'] = Dataset.from_pandas(df)\n",
    "print(dataset)"
   ],
   "outputs": [
    {
     "name": "stdout",
     "output_type": "stream",
     "text": [
      "Dataset({\n",
      "    features: ['description', 'points'],\n",
      "    num_rows: 500\n",
      "})\n"
     ]
    }
   ],
   "execution_count": 40
  },
  {
   "metadata": {
    "ExecuteTime": {
     "end_time": "2025-02-01T14:38:13.203028Z",
     "start_time": "2025-02-01T14:38:12.857064Z"
    }
   },
   "cell_type": "code",
   "source": [
    "dataset = dataset.train_test_split(test_size=0.2)\n",
    "dataset"
   ],
   "outputs": [
    {
     "data": {
      "text/plain": [
       "DatasetDict({\n",
       "    train: Dataset({\n",
       "        features: ['description', 'points'],\n",
       "        num_rows: 400\n",
       "    })\n",
       "    test: Dataset({\n",
       "        features: ['description', 'points'],\n",
       "        num_rows: 100\n",
       "    })\n",
       "})"
      ]
     },
     "execution_count": 41,
     "metadata": {},
     "output_type": "execute_result"
    }
   ],
   "execution_count": 41
  },
  {
   "metadata": {
    "ExecuteTime": {
     "end_time": "2025-02-01T14:34:04.222706Z",
     "start_time": "2025-02-01T14:34:03.865763Z"
    }
   },
   "cell_type": "code",
   "source": [
    "#1. (Much harder)\n",
    "dataset['train'] = dataset['train'].map(lambda x: {'description' : x['description'] , 'points': 1} if x['points'] > 90 \n",
    "else {'description' : x['description'] , 'points': 0})"
   ],
   "outputs": [
    {
     "data": {
      "text/plain": [
       "Map:   0%|          | 0/400 [00:00<?, ? examples/s]"
      ],
      "application/vnd.jupyter.widget-view+json": {
       "version_major": 2,
       "version_minor": 0,
       "model_id": "e2b74cea70984a439c362d3750c7c150"
      }
     },
     "metadata": {},
     "output_type": "display_data"
    }
   ],
   "execution_count": 28
  },
  {
   "cell_type": "code",
   "source": [
    "#2. (Much easier)\n",
    "train_df = dataset['train'].to_pandas()\n",
    "train_df['points'] = train_df['points'].apply(lambda x: 1 if x > 90 else 0)\n",
    "train_df"
   ],
   "metadata": {
    "id": "Duz8bzcRKSC7",
    "ExecuteTime": {
     "end_time": "2025-02-01T14:39:02.412290Z",
     "start_time": "2025-02-01T14:39:01.736164Z"
    }
   },
   "outputs": [
    {
     "data": {
      "text/plain": [
       "                                           description  points\n",
       "0    Scratchy plum and cassis aromas are earthy and...       0\n",
       "1    This tremendous wine is 100% Pinot Grigio, of ...       1\n",
       "2    This blend of Cabernet Sauvignon, Syrah and Me...       0\n",
       "3    While this wine does not age in wood, it does ...       0\n",
       "4    A rich, earthy Syrah from a new Terre Rouge vi...       0\n",
       "..                                                 ...     ...\n",
       "395  Made entirely from Pinot Noir grapes, this is ...       1\n",
       "396  As in 2003 this is a blend of Stillwater Creek...       0\n",
       "397  A first rate Zinfandel, as rich as they come, ...       1\n",
       "398  Waxy apple and melon aromas are basic but fres...       0\n",
       "399  Smooth and delicious, this opens with aromas o...       1\n",
       "\n",
       "[400 rows x 2 columns]"
      ],
      "text/html": [
       "<div>\n",
       "<style scoped>\n",
       "    .dataframe tbody tr th:only-of-type {\n",
       "        vertical-align: middle;\n",
       "    }\n",
       "\n",
       "    .dataframe tbody tr th {\n",
       "        vertical-align: top;\n",
       "    }\n",
       "\n",
       "    .dataframe thead th {\n",
       "        text-align: right;\n",
       "    }\n",
       "</style>\n",
       "<table border=\"1\" class=\"dataframe\">\n",
       "  <thead>\n",
       "    <tr style=\"text-align: right;\">\n",
       "      <th></th>\n",
       "      <th>description</th>\n",
       "      <th>points</th>\n",
       "    </tr>\n",
       "  </thead>\n",
       "  <tbody>\n",
       "    <tr>\n",
       "      <th>0</th>\n",
       "      <td>Scratchy plum and cassis aromas are earthy and...</td>\n",
       "      <td>0</td>\n",
       "    </tr>\n",
       "    <tr>\n",
       "      <th>1</th>\n",
       "      <td>This tremendous wine is 100% Pinot Grigio, of ...</td>\n",
       "      <td>1</td>\n",
       "    </tr>\n",
       "    <tr>\n",
       "      <th>2</th>\n",
       "      <td>This blend of Cabernet Sauvignon, Syrah and Me...</td>\n",
       "      <td>0</td>\n",
       "    </tr>\n",
       "    <tr>\n",
       "      <th>3</th>\n",
       "      <td>While this wine does not age in wood, it does ...</td>\n",
       "      <td>0</td>\n",
       "    </tr>\n",
       "    <tr>\n",
       "      <th>4</th>\n",
       "      <td>A rich, earthy Syrah from a new Terre Rouge vi...</td>\n",
       "      <td>0</td>\n",
       "    </tr>\n",
       "    <tr>\n",
       "      <th>...</th>\n",
       "      <td>...</td>\n",
       "      <td>...</td>\n",
       "    </tr>\n",
       "    <tr>\n",
       "      <th>395</th>\n",
       "      <td>Made entirely from Pinot Noir grapes, this is ...</td>\n",
       "      <td>1</td>\n",
       "    </tr>\n",
       "    <tr>\n",
       "      <th>396</th>\n",
       "      <td>As in 2003 this is a blend of Stillwater Creek...</td>\n",
       "      <td>0</td>\n",
       "    </tr>\n",
       "    <tr>\n",
       "      <th>397</th>\n",
       "      <td>A first rate Zinfandel, as rich as they come, ...</td>\n",
       "      <td>1</td>\n",
       "    </tr>\n",
       "    <tr>\n",
       "      <th>398</th>\n",
       "      <td>Waxy apple and melon aromas are basic but fres...</td>\n",
       "      <td>0</td>\n",
       "    </tr>\n",
       "    <tr>\n",
       "      <th>399</th>\n",
       "      <td>Smooth and delicious, this opens with aromas o...</td>\n",
       "      <td>1</td>\n",
       "    </tr>\n",
       "  </tbody>\n",
       "</table>\n",
       "<p>400 rows × 2 columns</p>\n",
       "</div>"
      ]
     },
     "execution_count": 42,
     "metadata": {},
     "output_type": "execute_result"
    }
   ],
   "execution_count": 42
  },
  {
   "metadata": {
    "ExecuteTime": {
     "end_time": "2025-02-01T14:39:53.006720Z",
     "start_time": "2025-02-01T14:39:52.783192Z"
    }
   },
   "cell_type": "code",
   "source": [
    "dataset['train'] = Dataset.from_pandas(train_df)\n",
    "dataset['train']"
   ],
   "outputs": [
    {
     "data": {
      "text/plain": [
       "Dataset({\n",
       "    features: ['description', 'points'],\n",
       "    num_rows: 400\n",
       "})"
      ]
     },
     "execution_count": 43,
     "metadata": {},
     "output_type": "execute_result"
    }
   ],
   "execution_count": 43
  },
  {
   "metadata": {
    "ExecuteTime": {
     "end_time": "2025-01-28T22:59:10.107624Z",
     "start_time": "2025-01-28T22:59:10.093698Z"
    }
   },
   "cell_type": "code",
   "source": [
    "dataset = dataset.rename_column(\"description\", \"text\")\n",
    "dataset = dataset.rename_column(\"points\", \"label\")"
   ],
   "outputs": [],
   "execution_count": 71
  },
  {
   "cell_type": "markdown",
   "source": [
    "## Dataset Splitting\n",
    "Partition the dataset into training and testing sets with an 80:20 ratio.\n"
   ],
   "metadata": {
    "id": "tls69_PrbJKW"
   }
  },
  {
   "cell_type": "code",
   "source": [
    "dataset = dataset[\"train\"].train_test_split(test_size=0.2)\n",
    "dataset"
   ],
   "metadata": {
    "id": "PjGGGMxebeoB",
    "ExecuteTime": {
     "end_time": "2025-01-28T23:00:15.500520Z",
     "start_time": "2025-01-28T23:00:15.398995Z"
    }
   },
   "outputs": [
    {
     "data": {
      "text/plain": [
       "DatasetDict({\n",
       "    train: Dataset({\n",
       "        features: ['text', 'label'],\n",
       "        num_rows: 400\n",
       "    })\n",
       "    test: Dataset({\n",
       "        features: ['text', 'label'],\n",
       "        num_rows: 100\n",
       "    })\n",
       "})"
      ]
     },
     "execution_count": 73,
     "metadata": {},
     "output_type": "execute_result"
    }
   ],
   "execution_count": 73
  },
  {
   "cell_type": "markdown",
   "source": [
    "## Tokenization\n",
    "Tokenize the texts using the `AutoTokenizer` class."
   ],
   "metadata": {
    "id": "NLnr8v_dWO1i"
   }
  },
  {
   "cell_type": "code",
   "source": [
    "from transformers import AutoTokenizer\n",
    "checkpoint = \"google-bert/bert-base-uncased\"\n",
    "tokenizer = AutoTokenizer.from_pretrained(checkpoint)\n",
    "print(tokenizer.model_max_length)  "
   ],
   "metadata": {
    "id": "esakOh8iWYEN",
    "ExecuteTime": {
     "end_time": "2025-01-28T23:05:55.339652Z",
     "start_time": "2025-01-28T23:05:55.079043Z"
    }
   },
   "outputs": [],
   "execution_count": 75
  },
  {
   "metadata": {
    "ExecuteTime": {
     "end_time": "2025-01-28T23:07:58.676208Z",
     "start_time": "2025-01-28T23:07:58.312645Z"
    }
   },
   "cell_type": "code",
   "source": [
    "def tokenize(sample):\n",
    "    return tokenizer(sample[\"text\"], truncation=True)\n",
    "tokenized_dataset = dataset.map(tokenize, batched=True)"
   ],
   "outputs": [
    {
     "data": {
      "text/plain": [
       "Map:   0%|          | 0/400 [00:00<?, ? examples/s]"
      ],
      "application/vnd.jupyter.widget-view+json": {
       "version_major": 2,
       "version_minor": 0,
       "model_id": "b67257492f144545bcaaf3d8dc816c71"
      }
     },
     "metadata": {},
     "output_type": "display_data"
    },
    {
     "data": {
      "text/plain": [
       "Map:   0%|          | 0/100 [00:00<?, ? examples/s]"
      ],
      "application/vnd.jupyter.widget-view+json": {
       "version_major": 2,
       "version_minor": 0,
       "model_id": "d1db67ebdc9b46ac9da8f5c5917c557f"
      }
     },
     "metadata": {},
     "output_type": "display_data"
    }
   ],
   "execution_count": 76
  },
  {
   "metadata": {
    "ExecuteTime": {
     "end_time": "2025-01-28T23:35:41.852067Z",
     "start_time": "2025-01-28T23:35:41.812299Z"
    }
   },
   "cell_type": "code",
   "source": [
    "from transformers import DataCollatorWithPadding\n",
    "data_collator = DataCollatorWithPadding(tokenizer=tokenizer)\n",
    "\n",
    "tokenized_dataset"
   ],
   "outputs": [
    {
     "data": {
      "text/plain": [
       "DatasetDict({\n",
       "    train: Dataset({\n",
       "        features: ['text', 'label', 'input_ids', 'token_type_ids', 'attention_mask'],\n",
       "        num_rows: 400\n",
       "    })\n",
       "    test: Dataset({\n",
       "        features: ['text', 'label', 'input_ids', 'token_type_ids', 'attention_mask'],\n",
       "        num_rows: 100\n",
       "    })\n",
       "})"
      ]
     },
     "execution_count": 78,
     "metadata": {},
     "output_type": "execute_result"
    }
   ],
   "execution_count": 78
  },
  {
   "cell_type": "markdown",
   "source": [
    "## Fine-tuning a Pre-trained Language Model for Classification\n",
    "Fine-tune a pre-trained language model for classification on the given dataset."
   ],
   "metadata": {
    "id": "VIkAR1Hibiwr"
   }
  },
  {
   "cell_type": "markdown",
   "source": [
    "Define the model using the `AutoModelForSequenceClassification` class."
   ],
   "metadata": {
    "id": "qWn1pafKbnxH"
   }
  },
  {
   "cell_type": "code",
   "source": [
    "from transformers import TrainingArguments\n",
    "from transformers import AutoModelForSequenceClassification\n",
    "\n",
    "training_args = TrainingArguments(\n",
    "    output_dir=\"trainer\",\n",
    "    eval_strategy=\"epoch\",\n",
    "    per_device_train_batch_size=16,  # batch size for training\n",
    "    per_device_eval_batch_size=16,  # batch size for evaluation\n",
    "    metric_for_best_model=\"f1\",\n",
    "    num_train_epochs=2,\n",
    ")\n",
    "\n",
    "model = AutoModelForSequenceClassification.from_pretrained(checkpoint, num_labels=2)"
   ],
   "metadata": {
    "id": "IXFIrQthbnkb",
    "ExecuteTime": {
     "end_time": "2025-01-28T23:41:36.774344Z",
     "start_time": "2025-01-28T23:40:20.897151Z"
    }
   },
   "outputs": [
    {
     "name": "stdout",
     "output_type": "stream",
     "text": [
      "WARNING:tensorflow:From C:\\Users\\user\\anaconda3\\Lib\\site-packages\\tf_keras\\src\\losses.py:2976: The name tf.losses.sparse_softmax_cross_entropy is deprecated. Please use tf.compat.v1.losses.sparse_softmax_cross_entropy instead.\n",
      "\n"
     ]
    },
    {
     "data": {
      "text/plain": [
       "model.safetensors:   0%|          | 0.00/440M [00:00<?, ?B/s]"
      ],
      "application/vnd.jupyter.widget-view+json": {
       "version_major": 2,
       "version_minor": 0,
       "model_id": "4c0e20645792453a991f569770cee777"
      }
     },
     "metadata": {},
     "output_type": "display_data"
    },
    {
     "name": "stderr",
     "output_type": "stream",
     "text": [
      "Some weights of BertForSequenceClassification were not initialized from the model checkpoint at google-bert/bert-base-uncased and are newly initialized: ['classifier.bias', 'classifier.weight']\n",
      "You should probably TRAIN this model on a down-stream task to be able to use it for predictions and inference.\n"
     ]
    }
   ],
   "execution_count": 79
  },
  {
   "cell_type": "markdown",
   "source": [
    "Define the traning parameters using the `TrainingArguments` class."
   ],
   "metadata": {
    "id": "IuQCSxZbYJOq"
   }
  },
  {
   "cell_type": "code",
   "source": [
    "import evaluate\n",
    "metric = evaluate.load(\"f1\")"
   ],
   "metadata": {
    "id": "p3sVs-L1YJHu",
    "ExecuteTime": {
     "end_time": "2025-01-28T23:44:26.167959Z",
     "start_time": "2025-01-28T23:44:21.930724Z"
    }
   },
   "outputs": [],
   "execution_count": 80
  },
  {
   "cell_type": "markdown",
   "source": [
    "Define the training using the `Trainer` class."
   ],
   "metadata": {
    "id": "pVvRS4L1YKHp"
   }
  },
  {
   "cell_type": "code",
   "source": [
    "import numpy as np\n",
    "def compute_metrics(eval_pred):\n",
    "    logits, labels = eval_pred\n",
    "    predictions = np.argmax(logits, axis=-1)\n",
    "    return metric.compute(predictions=predictions, references=labels, average=\"weighted\")"
   ],
   "metadata": {
    "id": "O7cyG3PhYJ_M",
    "ExecuteTime": {
     "end_time": "2025-01-28T23:47:39.056429Z",
     "start_time": "2025-01-28T23:47:39.048137Z"
    }
   },
   "outputs": [],
   "execution_count": 82
  },
  {
   "cell_type": "markdown",
   "source": [
    "Fine-tune (train) the pre-trained lanugage model."
   ],
   "metadata": {
    "id": "qFZr21HxYkko"
   }
  },
  {
   "cell_type": "code",
   "source": [
    "from transformers import Trainer\n",
    "\n",
    "trainer = Trainer(\n",
    "    model,\n",
    "    training_args,\n",
    "    train_dataset=tokenized_dataset[\"train\"],\n",
    "    eval_dataset=tokenized_dataset[\"test\"],\n",
    "    compute_metrics=compute_metrics,\n",
    "    data_collator=data_collator,\n",
    ")"
   ],
   "metadata": {
    "id": "U9Dz0P11Ykeh",
    "ExecuteTime": {
     "end_time": "2025-01-28T23:47:41.371477Z",
     "start_time": "2025-01-28T23:47:40.576311Z"
    }
   },
   "outputs": [],
   "execution_count": 83
  },
  {
   "cell_type": "markdown",
   "source": [
    "Use the trained model to make predictions for the test set."
   ],
   "metadata": {
    "id": "gyXZwAVab8Cp"
   }
  },
  {
   "cell_type": "code",
   "source": [
    "import torch\n",
    "device = \"cuda\" if torch.cuda.is_available() else \"cpu\"\n",
    "model.to(device)"
   ],
   "metadata": {
    "id": "EvMfVum6b_9b",
    "ExecuteTime": {
     "end_time": "2025-01-28T23:48:38.396419Z",
     "start_time": "2025-01-28T23:48:38.379503Z"
    }
   },
   "outputs": [
    {
     "data": {
      "text/plain": [
       "BertForSequenceClassification(\n",
       "  (bert): BertModel(\n",
       "    (embeddings): BertEmbeddings(\n",
       "      (word_embeddings): Embedding(30522, 768, padding_idx=0)\n",
       "      (position_embeddings): Embedding(512, 768)\n",
       "      (token_type_embeddings): Embedding(2, 768)\n",
       "      (LayerNorm): LayerNorm((768,), eps=1e-12, elementwise_affine=True)\n",
       "      (dropout): Dropout(p=0.1, inplace=False)\n",
       "    )\n",
       "    (encoder): BertEncoder(\n",
       "      (layer): ModuleList(\n",
       "        (0-11): 12 x BertLayer(\n",
       "          (attention): BertAttention(\n",
       "            (self): BertSdpaSelfAttention(\n",
       "              (query): Linear(in_features=768, out_features=768, bias=True)\n",
       "              (key): Linear(in_features=768, out_features=768, bias=True)\n",
       "              (value): Linear(in_features=768, out_features=768, bias=True)\n",
       "              (dropout): Dropout(p=0.1, inplace=False)\n",
       "            )\n",
       "            (output): BertSelfOutput(\n",
       "              (dense): Linear(in_features=768, out_features=768, bias=True)\n",
       "              (LayerNorm): LayerNorm((768,), eps=1e-12, elementwise_affine=True)\n",
       "              (dropout): Dropout(p=0.1, inplace=False)\n",
       "            )\n",
       "          )\n",
       "          (intermediate): BertIntermediate(\n",
       "            (dense): Linear(in_features=768, out_features=3072, bias=True)\n",
       "            (intermediate_act_fn): GELUActivation()\n",
       "          )\n",
       "          (output): BertOutput(\n",
       "            (dense): Linear(in_features=3072, out_features=768, bias=True)\n",
       "            (LayerNorm): LayerNorm((768,), eps=1e-12, elementwise_affine=True)\n",
       "            (dropout): Dropout(p=0.1, inplace=False)\n",
       "          )\n",
       "        )\n",
       "      )\n",
       "    )\n",
       "    (pooler): BertPooler(\n",
       "      (dense): Linear(in_features=768, out_features=768, bias=True)\n",
       "      (activation): Tanh()\n",
       "    )\n",
       "  )\n",
       "  (dropout): Dropout(p=0.1, inplace=False)\n",
       "  (classifier): Linear(in_features=768, out_features=2, bias=True)\n",
       ")"
      ]
     },
     "execution_count": 85,
     "metadata": {},
     "output_type": "execute_result"
    }
   ],
   "execution_count": 85
  },
  {
   "metadata": {
    "ExecuteTime": {
     "end_time": "2025-01-28T23:56:40.830296Z",
     "start_time": "2025-01-28T23:48:54.980008Z"
    }
   },
   "cell_type": "code",
   "source": "trainer.train()",
   "outputs": [
    {
     "data": {
      "text/plain": [
       "<IPython.core.display.HTML object>"
      ],
      "text/html": [
       "\n",
       "    <div>\n",
       "      \n",
       "      <progress value='50' max='50' style='width:300px; height:20px; vertical-align: middle;'></progress>\n",
       "      [50/50 07:20, Epoch 2/2]\n",
       "    </div>\n",
       "    <table border=\"1\" class=\"dataframe\">\n",
       "  <thead>\n",
       " <tr style=\"text-align: left;\">\n",
       "      <th>Epoch</th>\n",
       "      <th>Training Loss</th>\n",
       "      <th>Validation Loss</th>\n",
       "      <th>F1</th>\n",
       "    </tr>\n",
       "  </thead>\n",
       "  <tbody>\n",
       "    <tr>\n",
       "      <td>1</td>\n",
       "      <td>No log</td>\n",
       "      <td>0.566366</td>\n",
       "      <td>0.707083</td>\n",
       "    </tr>\n",
       "    <tr>\n",
       "      <td>2</td>\n",
       "      <td>No log</td>\n",
       "      <td>0.527889</td>\n",
       "      <td>0.704717</td>\n",
       "    </tr>\n",
       "  </tbody>\n",
       "</table><p>"
      ]
     },
     "metadata": {},
     "output_type": "display_data"
    },
    {
     "data": {
      "text/plain": [
       "TrainOutput(global_step=50, training_loss=0.5811162567138672, metrics={'train_runtime': 462.8028, 'train_samples_per_second': 1.729, 'train_steps_per_second': 0.108, 'total_flos': 38027769720000.0, 'train_loss': 0.5811162567138672, 'epoch': 2.0})"
      ]
     },
     "execution_count": 86,
     "metadata": {},
     "output_type": "execute_result"
    }
   ],
   "execution_count": 86
  },
  {
   "cell_type": "markdown",
   "source": [
    "Assess the performance of the model by using different metrics provided by the `scikit-learn` library."
   ],
   "metadata": {
    "id": "3VxAvDPtcNCh"
   }
  },
  {
   "cell_type": "code",
   "source": "predictions = trainer.predict(tokenized_dataset[\"test\"])",
   "metadata": {
    "id": "V4axpktycQhp",
    "ExecuteTime": {
     "end_time": "2025-01-28T23:59:42.844957Z",
     "start_time": "2025-01-28T23:59:23.432412Z"
    }
   },
   "outputs": [
    {
     "data": {
      "text/plain": [
       "<IPython.core.display.HTML object>"
      ],
      "text/html": []
     },
     "metadata": {},
     "output_type": "display_data"
    }
   ],
   "execution_count": 87
  },
  {
   "metadata": {
    "ExecuteTime": {
     "end_time": "2025-01-29T00:01:49.496390Z",
     "start_time": "2025-01-29T00:01:48.403106Z"
    }
   },
   "cell_type": "code",
   "source": [
    "from sklearn.metrics import classification_report, confusion_matrix\n",
    "import seaborn as sns\n",
    "import matplotlib.pyplot as plt\n",
    "\n",
    "logits, labels = predictions.predictions, predictions.label_ids\n",
    "preds = np.argmax(logits, axis=-1)\n",
    "\n",
    "print(classification_report(labels, preds))\n",
    "\n",
    "sns.heatmap(confusion_matrix(labels, preds), annot=True, fmt=\"5.2f\", cmap=\"Blues\")\n",
    "plt.xlabel(\"Predicted Labels\")\n",
    "plt.ylabel(\"True Labels\")\n",
    "plt.title(\"Confusion Matrix\")"
   ],
   "outputs": [
    {
     "name": "stdout",
     "output_type": "stream",
     "text": [
      "              precision    recall  f1-score   support\n",
      "\n",
      "           0       0.71      0.93      0.81        61\n",
      "           1       0.80      0.41      0.54        39\n",
      "\n",
      "    accuracy                           0.73       100\n",
      "   macro avg       0.76      0.67      0.68       100\n",
      "weighted avg       0.75      0.73      0.70       100\n",
      "\n"
     ]
    },
    {
     "data": {
      "text/plain": [
       "Text(0.5, 1.0, 'Confusion Matrix')"
      ]
     },
     "execution_count": 89,
     "metadata": {},
     "output_type": "execute_result"
    },
    {
     "data": {
      "text/plain": [
       "<Figure size 640x480 with 2 Axes>"
      ],
      "image/png": "[encoded data removed]"
     },
     "metadata": {},
     "output_type": "display_data"
    }
   ],
   "execution_count": 89
  },
  {
   "cell_type": "markdown",
   "source": [
    "# Laboratory Exercise - Bonus Task (+ 2 points)"
   ],
   "metadata": {
    "id": "RwnD_qSpIeXG"
   }
  },
  {
   "cell_type": "markdown",
   "source": [
    "Implement a simple machine learning pipeline to classify wine reviews as **exceptional** or not. Use TF-IDF vectorization to convert text into numerical features and train a logistic regression. Split the dataset into training and testing sets, fit the pipeline on the training data, and evaluate its performance using metrics such as precision, recall, and F1-score. Analyze the texts to find the most influential words or phrases associated with the **exceptional** wines. Use the coefficients from the logistic regression trained on TF-IDF features to identify the top positive and negative keywords for **exceptional** wines. Present these keywords in a simple table or visualization (e.g., bar chart)."
   ],
   "metadata": {
    "id": "At5xnEDq3A2h"
   }
  },
  {
   "cell_type": "code",
   "source": "#TODO",
   "metadata": {
    "id": "akxvW5SZ3DoV"
   },
   "execution_count": null,
   "outputs": []
  }
 ]
}
